{
 "cells": [
  {
   "cell_type": "markdown",
   "metadata": {},
   "source": [
    "<a href=\"https://colab.research.google.com/github/bemxio/colab-notebooks/blob/main/JumpcutterDemo/JumpcutterDemo.ipynb\" target=\"_parent\"><img src=\"https://colab.research.google.com/assets/colab-badge.svg\" alt=\"Open In Colab\"/></a>"
   ]
  },
  {
   "cell_type": "markdown",
   "metadata": {},
   "source": [
    "# Jumpcutter"
   ]
  },
  {
   "cell_type": "markdown",
   "metadata": {},
   "source": [
    "Jumpcutter is a program that is written in Python to automatically jump-cut silent parts of your videos. The purpose here is to ease your post recording work.\n",
    "\n",
    "And this is a Colab demo for it, made for fun, like with the Whisper [demo](https://colab.research.google.com/github/bemxio/colab-notebooks/blob/main/WhisperDemo/WhisperDemo.ipynb).<br/>\n",
    "It's quite heavy on the RAM, so the CPU runtime is enough. "
   ]
  },
  {
   "cell_type": "markdown",
   "metadata": {},
   "source": [
    "#### Install required dependencies"
   ]
  },
  {
   "cell_type": "code",
   "execution_count": null,
   "metadata": {},
   "outputs": [],
   "source": [
    "!pip install jumpcutter"
   ]
  },
  {
   "cell_type": "markdown",
   "metadata": {},
   "source": [
    "#### Set the parameters and upload the video file"
   ]
  },
  {
   "cell_type": "code",
   "execution_count": null,
   "metadata": {},
   "outputs": [],
   "source": [
    "import pathlib\n",
    "\n",
    "from moviepy.editor import ipython_display\n",
    "from google.colab import files\n",
    "\n",
    "# constants set by the user in the notebook\n",
    "CUT = \"silent\" # @param [\"silent\", \"voiced\", \"both\"]\n",
    "\n",
    "MAGNITUDE_THRESHOLD_RATIO = 0.02 # @param {type: \"slider\", min: 0, max: 1, step: 0.01}\n",
    "DURATION_THRESHOLD = 0.5 # @param {type: \"slider\", min: 0, max: 1, step: 0.01}\n",
    "FAILURE_TOLERANCE_RATIO = 0.1 # @param {type: \"slider\", min: 0, max: 1, step: 0.01}\n",
    "SPACES_ON_EDGES = 0.1 # @param {type: \"slider\", min: 0, max: 1, step: 0.01}\n",
    "\n",
    "# show a prompt for file upload\n",
    "uploads = files.upload()\n",
    "\n",
    "# get the path of the file\n",
    "path = pathlib.Path(next(iter(uploads)))\n",
    "\n",
    "# show a preview of the video\n",
    "ipython_display(str(path), filetype=\"video\", maxduration=300)"
   ]
  },
  {
   "cell_type": "markdown",
   "metadata": {},
   "source": [
    "#### Process the video file"
   ]
  },
  {
   "cell_type": "code",
   "execution_count": null,
   "metadata": {},
   "outputs": [],
   "source": [
    "# create the output path\n",
    "output = path.with_stem(path.stem + \"_result\")\n",
    "\n",
    "# process the video through the jumpcutter\n",
    "!python3 -m jumpcutter -c {CUT} -m {MAGNITUDE_THRESHOLD_RATIO} -d {DURATION_THRESHOLD} -f {FAILURE_TOLERANCE_RATIO} -s {SPACES_ON_EDGES} \"{path}\" -o \"{output}\"\n",
    "\n",
    "# show a preview of the result\n",
    "ipython_display(str(output), filetype=\"video\", maxduration=300)"
   ]
  },
  {
   "cell_type": "markdown",
   "metadata": {},
   "source": [
    "You can now access all of the files the program generated in the Files tab (that little folder on the left bar).\n",
    "\n",
    "Congratulations! Download stuff you need or generate more stuff if you want."
   ]
  }
 ],
 "metadata": {
  "language_info": {
   "name": "python"
  }
 },
 "nbformat": 4,
 "nbformat_minor": 2
}
