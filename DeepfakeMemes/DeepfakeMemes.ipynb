{
 "cells": [
  {
   "cell_type": "markdown",
   "metadata": {
    "id": "cdO_RxQZLahB"
   },
   "source": [
    "# First Order Motion Model for Face Rearrangement (suited for deepfake memes)"
   ]
  },
  {
   "cell_type": "markdown",
   "metadata": {
    "id": "UDZ21buOad-X"
   },
   "source": [
    "Original code made my Aliaksandr Siarohin, edited by bemxio. For a tutorial on how to use this, head over to https://drive.google.com/file/d/1BnHOZFklXe9KzL4jQt0mavvNH4eL28bJ/view?usp=drivesdk"
   ]
  },
  {
   "cell_type": "markdown",
   "metadata": {
    "id": "GCDNKsEGLtR6"
   },
   "source": [
    "**Clone original repository from GitHub**"
   ]
  },
  {
   "cell_type": "code",
   "execution_count": 1,
   "metadata": {
    "colab": {
     "base_uri": "https://localhost:8080/",
     "height": 157
    },
    "executionInfo": {
     "elapsed": 12438,
     "status": "ok",
     "timestamp": 1601922136838,
     "user": {
      "displayName": "Nataniel Bemowski",
      "photoUrl": "https://lh3.googleusercontent.com/a-/AOh14GhZjFPNQAWoWtUqtfHXkk-K0TuCGr0TkGfM3er4tA=s64",
      "userId": "05873467351785436346"
     },
     "user_tz": -120
    },
    "id": "UCMFMJV7K-ag",
    "outputId": "7b2d28d2-0d6d-4023-e5dc-c9a4113cad6c"
   },
   "outputs": [],
   "source": [
    "!git clone https://github.com/AliaksandrSiarohin/first-order-model"
   ]
  },
  {
   "cell_type": "code",
   "execution_count": 2,
   "metadata": {
    "colab": {
     "base_uri": "https://localhost:8080/",
     "height": 34
    },
    "executionInfo": {
     "elapsed": 2041,
     "status": "ok",
     "timestamp": 1601922154924,
     "user": {
      "displayName": "Nataniel Bemowski",
      "photoUrl": "https://lh3.googleusercontent.com/a-/AOh14GhZjFPNQAWoWtUqtfHXkk-K0TuCGr0TkGfM3er4tA=s64",
      "userId": "05873467351785436346"
     },
     "user_tz": -120
    },
    "id": "PBp6l_4bBYUL",
    "outputId": "b5c50a5a-4fef-4941-85c9-4d8d82e71684"
   },
   "outputs": [],
   "source": [
    "cd first-order-model"
   ]
  },
  {
   "cell_type": "markdown",
   "metadata": {
    "id": "IcMX7ueZO0Oa"
   },
   "source": [
    "**Mount your Google drive folder on Colab**"
   ]
  },
  {
   "cell_type": "code",
   "execution_count": 3,
   "metadata": {
    "colab": {
     "base_uri": "https://localhost:8080/",
     "height": 34
    },
    "executionInfo": {
     "elapsed": 36504,
     "status": "ok",
     "timestamp": 1601922192482,
     "user": {
      "displayName": "Nataniel Bemowski",
      "photoUrl": "https://lh3.googleusercontent.com/a-/AOh14GhZjFPNQAWoWtUqtfHXkk-K0TuCGr0TkGfM3er4tA=s64",
      "userId": "05873467351785436346"
     },
     "user_tz": -120
    },
    "id": "tDbMA8R9OuUo",
    "outputId": "16771652-111a-49b0-a135-96fa23c855bf"
   },
   "outputs": [],
   "source": [
    "from google.colab import drive\n",
    "drive.mount('/content/gdrive')"
   ]
  },
  {
   "cell_type": "markdown",
   "metadata": {
    "id": "rW-ipQXPOWUo"
   },
   "source": [
    "**Load driving video and source image**"
   ]
  },
  {
   "cell_type": "code",
   "execution_count": null,
   "metadata": {
    "colab": {
     "base_uri": "https://localhost:8080/",
     "height": 473
    },
    "executionInfo": {
     "elapsed": 65861,
     "status": "ok",
     "timestamp": 1601922263078,
     "user": {
      "displayName": "Nataniel Bemowski",
      "photoUrl": "https://lh3.googleusercontent.com/a-/AOh14GhZjFPNQAWoWtUqtfHXkk-K0TuCGr0TkGfM3er4tA=s64",
      "userId": "05873467351785436346"
     },
     "user_tz": -120
    },
    "id": "Oxi6-riLOgnm",
    "outputId": "9161cf31-93bc-4fad-8dbb-f814d59d5808"
   },
   "outputs": [],
   "source": [
    "import imageio\n",
    "import numpy as np\n",
    "import matplotlib.pyplot as plt\n",
    "import matplotlib.animation as animation\n",
    "from skimage.transform import resize\n",
    "from IPython.display import HTML\n",
    "import warnings\n",
    " \n",
    "warnings.filterwarnings('ignore')\n",
    "source_image = imageio.imread('/content/gdrive/My Drive/first-order-motion-model/02.png')\n",
    " \n",
    "reader = imageio.get_reader('/content/gdrive/My Drive/first-order-motion-model/04.mp4')\n",
    "driving_video = [frame for frame in reader]\n",
    " \n",
    "# get FPS of a driving video,\n",
    "# to make the generated video have the right speed\n",
    "video_fps = reader.get_meta_data()['fps']\n",
    " \n",
    "# resize image and video to 256x256\n",
    "source_image = resize(source_image, (256, 256))[..., :3]\n",
    "driving_video = [resize(frame, (256, 256))[..., :3] for frame in driving_video]\n",
    " \n",
    "def display(source, driving, generated=None):\n",
    "    fig = plt.figure(figsize=(8 + 4 * (generated is not None), 6))\n",
    "    ims = []\n",
    "    for i in range(len(driving)):\n",
    "        cols = [source]\n",
    "        cols.append(driving[i])\n",
    "        if generated is not None:\n",
    "            cols.append(generated[i])\n",
    "        im = plt.imshow(np.concatenate(cols, axis=1), animated=True)\n",
    "        plt.axis('off')\n",
    "        ims.append([im])\n",
    " \n",
    "    ani = animation.ArtistAnimation(fig, ims, interval=50, repeat_delay=1000)\n",
    "    plt.close()\n",
    "    return ani\n",
    "    \n",
    " \n",
    "HTML(display(source_image, driving_video).to_html5_video())"
   ]
  },
  {
   "cell_type": "markdown",
   "metadata": {
    "id": "xjM7ubVfWrwT"
   },
   "source": [
    "**Create a model and load checkpoints**"
   ]
  },
  {
   "cell_type": "code",
   "execution_count": 5,
   "metadata": {
    "executionInfo": {
     "elapsed": 25819,
     "status": "ok",
     "timestamp": 1601922300669,
     "user": {
      "displayName": "Nataniel Bemowski",
      "photoUrl": "https://lh3.googleusercontent.com/a-/AOh14GhZjFPNQAWoWtUqtfHXkk-K0TuCGr0TkGfM3er4tA=s64",
      "userId": "05873467351785436346"
     },
     "user_tz": -120
    },
    "id": "3FQiXqQPWt5B"
   },
   "outputs": [],
   "source": [
    "from demo import load_checkpoints\n",
    "generator, kp_detector = load_checkpoints(config_path='config/vox-256.yaml', \n",
    "                            checkpoint_path='/content/gdrive/My Drive/first-order-motion-model/vox-cpk.pth.tar')"
   ]
  },
  {
   "cell_type": "markdown",
   "metadata": {
    "id": "fdFdasHEj3t7"
   },
   "source": [
    "**Perform image animation**"
   ]
  },
  {
   "cell_type": "code",
   "execution_count": 6,
   "metadata": {
    "colab": {
     "base_uri": "https://localhost:8080/",
     "height": 490
    },
    "executionInfo": {
     "elapsed": 123469,
     "status": "ok",
     "timestamp": 1601922428871,
     "user": {
      "displayName": "Nataniel Bemowski",
      "photoUrl": "https://lh3.googleusercontent.com/a-/AOh14GhZjFPNQAWoWtUqtfHXkk-K0TuCGr0TkGfM3er4tA=s64",
      "userId": "05873467351785436346"
     },
     "user_tz": -120
    },
    "id": "SB12II11kF4c",
    "outputId": "42fdde29-e775-4a4a-978c-7ac403d2319c"
   },
   "outputs": [],
   "source": [
    "from demo import make_animation\n",
    "from skimage import img_as_ubyte\n",
    " \n",
    "predictions = make_animation(source_image, driving_video, generator, kp_detector, relative=True)\n",
    " \n",
    "# save resulting video\n",
    "imageio.mimsave('../generated.mp4', [img_as_ubyte(frame) for frame in predictions], fps=video_fps)\n",
    "# video can be downloaded from /content folder\n",
    " \n",
    "HTML(display(source_image, driving_video, predictions).to_html5_video())"
   ]
  },
  {
   "cell_type": "markdown",
   "metadata": {
    "id": "6GoKFYJNnX1p"
   },
   "source": [
    "**Add audio from the template video to the generated one**"
   ]
  },
  {
   "cell_type": "code",
   "execution_count": 7,
   "metadata": {
    "colab": {
     "base_uri": "https://localhost:8080/",
     "height": 294
    },
    "executionInfo": {
     "elapsed": 14777,
     "status": "ok",
     "timestamp": 1601922455731,
     "user": {
      "displayName": "Nataniel Bemowski",
      "photoUrl": "https://lh3.googleusercontent.com/a-/AOh14GhZjFPNQAWoWtUqtfHXkk-K0TuCGr0TkGfM3er4tA=s64",
      "userId": "05873467351785436346"
     },
     "user_tz": -120
    },
    "id": "FcsZAr45n3CR",
    "outputId": "41141afb-ca38-4f8d-c224-1a50e502c16b"
   },
   "outputs": [],
   "source": [
    "from moviepy.editor import VideoFileClip, AudioFileClip\n",
    "import os\n",
    " \n",
    "video = VideoFileClip('../generated.mp4')\n",
    "audio = AudioFileClip('/content/gdrive/My Drive/first-order-motion-model/04.mp4')\n",
    " \n",
    "video = video.set_audio(audio)\n",
    "os.remove('../generated.mp4')\n",
    "video.write_videofile('../generated.mp4')"
   ]
  }
 ],
 "metadata": {
  "accelerator": "GPU",
  "colab": {
   "collapsed_sections": [],
   "name": "deepfakeMeme.ipynb",
   "provenance": [
    {
     "file_id": "https://github.com/AliaksandrSiarohin/first-order-model/blob/master/demo.ipynb",
     "timestamp": 1597683220813
    }
   ]
  },
  "kernelspec": {
   "display_name": "Python 3",
   "name": "python3"
  }
 },
 "nbformat": 4,
 "nbformat_minor": 0
}
