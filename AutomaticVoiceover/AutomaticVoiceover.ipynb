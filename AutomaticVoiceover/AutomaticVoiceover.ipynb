{
  "cells": [
    {
      "cell_type": "markdown",
      "metadata": {
        "colab_type": "text",
        "id": "view-in-github"
      },
      "source": [
        "<a href=\"https://colab.research.google.com/github/bemxio/colab-notebooks/blob/main/AutomaticVoiceover/AutomaticVoiceover.ipynb\" target=\"_parent\"><img src=\"https://colab.research.google.com/assets/colab-badge.svg\" alt=\"Open In Colab\"/></a>"
      ]
    },
    {
      "cell_type": "markdown",
      "metadata": {
        "id": "XHXYZF7kFtX5"
      },
      "source": [
        "# Automatic Voice-Over\n",
        "A Colab notebook to take an audio of a video file, process it using [Whisper](https://github.com/openai/whisper) to get subtitles out of the audio and translate them to English, then use [gTTS](https://github.com/pndurette/gTTS) together with [pydub](https://github.com/jiaaro/pydub) to generate the voice-over audio, and finally use [ffmpeg](https://github.com/FFmpeg/FFmpeg) to add the voice-over audio to the video.\n",
        "\n",
        "Also using [`srt`]() for reading the subtitle file and [`audio-effects`]() for slowing down a sample.\n",
        "\n",
        "Made just for pure fun and laughs, do not use it in professional stuff, unless you want yourself to look dumb. :3"
      ]
    },
    {
      "cell_type": "markdown",
      "metadata": {
        "id": "xM1biBYIG1YY"
      },
      "source": [
        "#### Install required dependencies"
      ]
    },
    {
      "cell_type": "code",
      "execution_count": null,
      "metadata": {
        "colab": {
          "base_uri": "https://localhost:8080/"
        },
        "id": "i32BfLgmG8Vd",
        "outputId": "2bfa506f-62ea-420f-b230-c58523227235"
      },
      "outputs": [],
      "source": [
        "%pip install openai-whisper srt gTTS pydub audio-effects"
      ]
    },
    {
      "cell_type": "markdown",
      "metadata": {
        "id": "MmfLUPeyHNiQ"
      },
      "source": [
        "#### Set the parameters and upload the video file"
      ]
    },
    {
      "cell_type": "code",
      "execution_count": null,
      "metadata": {
        "colab": {
          "base_uri": "https://localhost:8080/",
          "height": 317
        },
        "id": "HTWyXenCHRIG",
        "outputId": "8de96bd8-89e9-4e19-83d7-694e85355ca6"
      },
      "outputs": [],
      "source": [
        "import pathlib\n",
        "\n",
        "from moviepy.editor import ipython_display\n",
        "from google.colab import files\n",
        "\n",
        "# constants set by the user in the notebook\n",
        "MODEL = \"large\" # @param [\"tiny.en\", \"tiny\", \"base.en\", \"base\", \"small.en\", \"small\", \"medium.en\", \"medium\", \"large-v1\", \"large-v2\", \"large\"]\n",
        "LANGUAGE = \"English\" # @param [\"Afrikaans\", \"Albanian\", \"Amharic\", \"Arabic\", \"Armenian\", \"Assamese\", \"Azerbaijani\", \"Bashkir\", \"Basque\", \"Belarusian\", \"Bengali\", \"Bosnian\", \"Breton\", \"Bulgarian\", \"Burmese\", \"Castilian\", \"Catalan\", \"Chinese\", \"Croatian\", \"Czech\", \"Danish\", \"Dutch\", \"Estonian\", \"Faroese\", \"Finnish\", \"Flemish\", \"French\", \"Galician\", \"Georgian\", \"German\", \"Greek\", \"Gujarati\", \"Haitian\", \"Haitian Creole\", \"Hausa\", \"Hawaiian\", \"Hebrew\", \"Hindi\", \"Hungarian\", \"Icelandic\", \"Indonesian\", \"Italian\", \"Japanese\", \"Javanese\", \"Kannada\", \"Kazakh\", \"Khmer\", \"Korean\", \"Lao\", \"Latin\", \"Latvian\", \"Letzeburgesch\", \"Lingala\", \"Lithuanian\", \"Luxembourgish\", \"Macedonian\", \"Malagasy\", \"Malay\", \"Malayalam\", \"Maltese\", \"Maori\", \"Marathi\", \"Moldavian\", \"Moldovan\", \"Mongolian\", \"Myanmar\", \"Nepali\", \"Norwegian\", \"Nynorsk\", \"Occitan\", \"Panjabi\", \"Pashto\", \"Persian\", \"Polish\", \"Portuguese\", \"Punjabi\", \"Pushto\", \"Romanian\", \"Russian\", \"Sanskrit\", \"Serbian\", \"Shona\", \"Sindhi\", \"Sinhala\", \"Sinhalese\", \"Slovak\", \"Slovenian\", \"Somali\", \"Spanish\", \"Sundanese\", \"Swahili\", \"Swedish\", \"Tagalog\", \"Tajik\", \"Tamil\", \"Tatar\", \"Telugu\", \"Thai\", \"Tibetan\", \"Turkish\", \"Turkmen\", \"Ukrainian\", \"Urdu\", \"Uzbek\", \"Valencian\", \"Vietnamese\", \"Welsh\", \"Yiddish\", \"Yoruba\"]\n",
        "\n",
        "TTS_LANGUAGE = \"en\" # @param {type: \"string\"}\n",
        "TTS_REGION = \"co.uk\" # @param {type: \"string\"}\n",
        "\n",
        "# show a prompt for file upload\n",
        "uploads = files.upload()\n",
        "\n",
        "# get the path of the file\n",
        "path = pathlib.Path(next(iter(uploads)))\n",
        "\n",
        "# show a preview of the video\n",
        "ipython_display(str(path), filetype=\"video\", maxduration=300)"
      ]
    },
    {
      "cell_type": "markdown",
      "metadata": {
        "id": "lBtf5_nUKP4K"
      },
      "source": [
        "#### Generate the subtitles based on the video file"
      ]
    },
    {
      "cell_type": "code",
      "execution_count": null,
      "metadata": {
        "colab": {
          "base_uri": "https://localhost:8080/"
        },
        "id": "2PX1tzmAKTiR",
        "outputId": "62ad3262-f15f-4a41-c530-82a157f5b755"
      },
      "outputs": [],
      "source": [
        "!python3 -m whisper \"{path}\" --model {MODEL} --language {LANGUAGE} --task translate"
      ]
    },
    {
      "cell_type": "markdown",
      "metadata": {
        "id": "v2tiTTYgK0lY"
      },
      "source": [
        "#### Generate the voice-over based on subtitles"
      ]
    },
    {
      "cell_type": "code",
      "execution_count": null,
      "metadata": {
        "colab": {
          "base_uri": "https://localhost:8080/",
          "height": 1000
        },
        "id": "nOun1dzNK3Z5",
        "outputId": "935e5859-337a-417f-e574-f28fafa05803"
      },
      "outputs": [],
      "source": [
        "from io import BytesIO\n",
        "\n",
        "import srt\n",
        "import gtts\n",
        "from pydub import AudioSegment\n",
        "\n",
        "from pydub.effects import speedup as speed_up\n",
        "from audio_effects import speed_down\n",
        "\n",
        "# a helper function for changing the speed of a sample\n",
        "def change_length(segment: AudioSegment, length: float) -> AudioSegment:\n",
        "    multiplier = segment.duration_seconds / length\n",
        "\n",
        "    if multiplier > 1:\n",
        "        return speed_up(segment, multiplier, chunk_size=50)\n",
        "    elif multiplier < 1:\n",
        "        return speed_down(segment, multiplier)\n",
        "    else:\n",
        "        return segment\n",
        "\n",
        "# set the cache dictionary\n",
        "cache = {}\n",
        "\n",
        "with open(path.with_suffix(\".srt\"), \"r\", encoding=\"utf-8\") as file:\n",
        "    # get the subtitles in a list\n",
        "    subtitles = list(srt.parse(file.read()))\n",
        "\n",
        "    # get the duration of the whole voice-over in miliseconds\n",
        "    duration = subtitles[-1].end.total_seconds() * 1000\n",
        "\n",
        "    # make a silent audio segment\n",
        "    audio = AudioSegment.silent(duration=duration)\n",
        "\n",
        "    for subtitle in subtitles:\n",
        "        if subtitle.content in cache:\n",
        "            stream = cache[subtitle.content] # no need to call the API that way\n",
        "        else:\n",
        "            stream = BytesIO()\n",
        "\n",
        "            speech = gtts.gTTS(subtitle.content, lang=TTS_LANGUAGE, tld=TTS_REGION, slow=True)\n",
        "            speech.write_to_fp(stream)\n",
        "\n",
        "            cache[subtitle.content] = stream\n",
        "\n",
        "        # seek to the beginning of the stream\n",
        "        stream.seek(0)\n",
        "\n",
        "        # import the audio from the stream\n",
        "        speech = AudioSegment.from_file(stream, format=\"mp3\")\n",
        "\n",
        "        # get the start, end and the duration of a subtitle\n",
        "        start = subtitle.start\n",
        "        end = subtitle.end\n",
        "\n",
        "        length = (end - start).total_seconds()\n",
        "\n",
        "        # change the speed of the sample and overlay it to the voice-over\n",
        "        audio = audio.overlay(change_length(speech, length), start.total_seconds() * 1000)\n",
        "\n",
        "        # print debug information about the subtitle\n",
        "        print(f\"Subtitle: {subtitle.content}\")\n",
        "        print(f\"Start: {start}\")\n",
        "        print(f\"End: {end}\")\n",
        "        print(f\"Length: {length}\\n\")\n",
        "\n",
        "# get the voice-over path\n",
        "voiceover = path.with_suffix(\".wav\")\n",
        "\n",
        "# export the voice-over to a WAV file\n",
        "audio.export(voiceover, format=\"wav\")\n",
        "\n",
        "# show a preview of the voice-over\n",
        "ipython_display(str(voiceover), filetype=\"audio\", maxduration=300)"
      ]
    },
    {
      "cell_type": "markdown",
      "metadata": {
        "id": "BIzBOgwWMhPQ"
      },
      "source": [
        "#### Make a video file with the new voice-over"
      ]
    },
    {
      "cell_type": "code",
      "execution_count": null,
      "metadata": {
        "colab": {
          "base_uri": "https://localhost:8080/",
          "height": 992
        },
        "id": "V5DU8X9iMwNX",
        "outputId": "bf5d468e-9ed4-4234-ba96-198996007797"
      },
      "outputs": [],
      "source": [
        "# get the video output path\n",
        "output = path.with_stem(path.stem + ' voiceover')\n",
        "\n",
        "# replace the audio track in the video file\n",
        "!ffmpeg -i \"{path}\" -i \"{voiceover}\" -c:v copy -map 0:v:0 -map 1:a:0 \"{output}\"\n",
        "\n",
        "# show a preview of the video file\n",
        "ipython_display(str(output), filetype=\"video\", maxduration=300)\n",
        "\n",
        "# download the video file\n",
        "files.download(str(output))"
      ]
    }
  ],
  "metadata": {
    "accelerator": "GPU",
    "colab": {
      "authorship_tag": "ABX9TyPSfTxNmI7M+MQDCpwBxzLi",
      "gpuType": "T4",
      "include_colab_link": true,
      "provenance": []
    },
    "kernelspec": {
      "display_name": "Python 3",
      "name": "python3"
    },
    "language_info": {
      "name": "python"
    }
  },
  "nbformat": 4,
  "nbformat_minor": 0
}
